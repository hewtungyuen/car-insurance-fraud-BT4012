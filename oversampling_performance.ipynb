{
 "cells": [
  {
   "cell_type": "code",
   "execution_count": 1,
   "id": "88ad6c4a",
   "metadata": {},
   "outputs": [],
   "source": [
    "import pandas as pd\n",
    "from imblearn.combine import SMOTEENN\n",
    "from sklearn.linear_model import LogisticRegression\n",
    "\n",
    "RANDOM_STATE=20"
   ]
  },
  {
   "cell_type": "code",
   "execution_count": 2,
   "id": "18132fca",
   "metadata": {},
   "outputs": [],
   "source": [
    "from utils import *"
   ]
  },
  {
   "cell_type": "code",
   "execution_count": 3,
   "id": "43933129",
   "metadata": {},
   "outputs": [],
   "source": [
    "df_train = pd.read_csv(\"train.csv\")\n",
    "df_valid = pd.read_csv(\"valid.csv\")\n",
    "df_test = pd.read_csv(\"test.csv\")"
   ]
  },
  {
   "cell_type": "code",
   "execution_count": 4,
   "id": "2e2874c6",
   "metadata": {},
   "outputs": [],
   "source": [
    "def no_resampling(df_train, df_valid, df_test):\n",
    "    return get_train_and_test_values(df_train, df_valid, df_test)\n",
    "\n",
    "\n",
    "def with_resampling(df_train, df_valid, df_test):\n",
    "    X_train, y_train, X_valid, y_valid, X_test, y_test = get_train_and_test_values(df_train, df_valid, df_test)\n",
    "    \n",
    "    smote_enn = SMOTEENN(random_state=RANDOM_STATE, sampling_strategy=0.6)\n",
    "    X_train_resampled, y_train_resampled = smote_enn.fit_resample(X_train, y_train)\n",
    "    \n",
    "    return X_train_resampled, y_train_resampled, X_valid, y_valid, X_test, y_test"
   ]
  },
  {
   "cell_type": "code",
   "execution_count": 5,
   "id": "5515e408",
   "metadata": {},
   "outputs": [
    {
     "name": "stdout",
     "output_type": "stream",
     "text": [
      "NO RESAMPLING\n",
      "\n",
      "Precision: 0.000\n",
      "Accuracy: 0.941\n",
      "Recall: 0.000\n",
      "F1: 0.000\n",
      "Fbeta: 0.000\n",
      "ROC AUC: 0.500\n",
      "PR AUC: 0.059\n"
     ]
    },
    {
     "name": "stderr",
     "output_type": "stream",
     "text": [
      "c:\\Users\\hewtu\\AppData\\Local\\Programs\\Python\\Python310\\lib\\site-packages\\sklearn\\metrics\\_classification.py:1334: UndefinedMetricWarning: Precision is ill-defined and being set to 0.0 due to no predicted samples. Use `zero_division` parameter to control this behavior.\n",
      "  _warn_prf(average, modifier, msg_start, len(result))\n"
     ]
    }
   ],
   "source": [
    "print(\"NO RESAMPLING\")\n",
    "print()\n",
    "log_model_no_resampling = LogisticRegression(max_iter=10000, random_state=RANDOM_STATE)\n",
    "\n",
    "X_train, y_train, X_valid, y_valid, X_test, y_test = no_resampling(df_train, df_valid, df_test)\n",
    "predictions = obtain_predictions(log_model_no_resampling, X_train, y_train, X_valid, y_valid)\n",
    "get_scores(y_valid, predictions)"
   ]
  },
  {
   "cell_type": "code",
   "execution_count": 6,
   "id": "c769323e",
   "metadata": {},
   "outputs": [
    {
     "name": "stdout",
     "output_type": "stream",
     "text": [
      "WITH RESAMPLING\n",
      "\n",
      "Precision: 0.079\n",
      "Accuracy: 0.568\n",
      "Recall: 0.590\n",
      "F1: 0.139\n",
      "Fbeta: 0.257\n",
      "ROC AUC: 0.578\n",
      "PR AUC: 0.071\n"
     ]
    }
   ],
   "source": [
    "print(\"WITH RESAMPLING\")\n",
    "print()\n",
    "log_model_with_resampling = LogisticRegression(max_iter=10000, random_state=RANDOM_STATE)\n",
    "\n",
    "X_train, y_train, X_valid, y_valid, X_test, y_test = with_resampling(df_train, df_valid, df_test)\n",
    "predictions = obtain_predictions(log_model_no_resampling, X_train, y_train, X_valid, y_valid)\n",
    "get_scores(y_valid, predictions)"
   ]
  }
 ],
 "metadata": {
  "kernelspec": {
   "display_name": "Python 3.10.7 64-bit",
   "language": "python",
   "name": "python3"
  },
  "language_info": {
   "codemirror_mode": {
    "name": "ipython",
    "version": 3
   },
   "file_extension": ".py",
   "mimetype": "text/x-python",
   "name": "python",
   "nbconvert_exporter": "python",
   "pygments_lexer": "ipython3",
   "version": "3.10.7"
  },
  "vscode": {
   "interpreter": {
    "hash": "b537b8676e964fa88364bbf876c4f5cb77245c6250d4fbabb7e879f6518244a1"
   }
  }
 },
 "nbformat": 4,
 "nbformat_minor": 5
}
