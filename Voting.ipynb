{
 "cells": [
  {
   "cell_type": "code",
   "execution_count": 2,
   "metadata": {},
   "outputs": [],
   "source": [
    "import numpy as np\n",
    "import pandas as pd\n",
    "df_train = pd.read_csv(\"train.csv\", index_col=False)\n",
    "df_valid = pd.read_csv(\"valid.csv\", index_col = False)\n",
    "df_test = pd.read_csv(\"test.csv\", index_col = False)\n"
   ]
  },
  {
   "cell_type": "code",
   "execution_count": 3,
   "metadata": {},
   "outputs": [],
   "source": [
    "\n",
    "df_valid = df_valid.loc[:, df_train.columns]\n",
    "df_test = df_test.loc[:, df_train.columns]\n"
   ]
  },
  {
   "cell_type": "code",
   "execution_count": 4,
   "metadata": {},
   "outputs": [],
   "source": [
    "\n",
    "y_train = df_train['FraudFound_P']\n",
    "x_train = df_train.drop('FraudFound_P',axis = 1)\n",
    "y_valid = df_valid['FraudFound_P']\n",
    "x_valid = df_valid.drop('FraudFound_P',axis = 1)\n",
    "y_test = df_test['FraudFound_P']\n",
    "x_test = df_test.drop('FraudFound_P',axis = 1)\n"
   ]
  },
  {
   "cell_type": "code",
   "execution_count": 5,
   "metadata": {},
   "outputs": [],
   "source": [
    "\n",
    "from collections import Counter\n",
    "from imblearn.combine import SMOTEENN\n",
    "smote_enn = SMOTEENN(random_state=0, sampling_strategy=0.6)\n",
    "\n",
    "x_train, y_train = smote_enn.fit_resample(x_train, y_train)\n",
    "\n"
   ]
  },
  {
   "cell_type": "code",
   "execution_count": 1,
   "metadata": {},
   "outputs": [
    {
     "name": "stdout",
     "output_type": "stream",
     "text": [
      "Collecting xgboost\n",
      "  Downloading xgboost-1.7.1-py3-none-win_amd64.whl (89.1 MB)\n",
      "     ---------------------------------------- 89.1/89.1 MB 5.1 MB/s eta 0:00:00\n",
      "Requirement already satisfied: scipy in d:\\anaconda\\envs\\new\\lib\\site-packages (from xgboost) (1.8.1)\n",
      "Requirement already satisfied: numpy in d:\\anaconda\\envs\\new\\lib\\site-packages (from xgboost) (1.23.4)\n",
      "Installing collected packages: xgboost\n",
      "Successfully installed xgboost-1.7.1\n",
      "Note: you may need to restart the kernel to use updated packages.\n"
     ]
    }
   ],
   "source": [
    "%pip install xgboost"
   ]
  },
  {
   "cell_type": "code",
   "execution_count": 12,
   "metadata": {},
   "outputs": [],
   "source": [
    "from sklearn.neighbors import KNeighborsClassifier\n",
    "from sklearn import metrics\n",
    "from sklearn.tree import DecisionTreeClassifier\n",
    "from sklearn.linear_model import LogisticRegression\n",
    "from sklearn.naive_bayes import GaussianNB\n",
    "from sklearn.ensemble import VotingClassifier\n",
    "from lightgbm import LGBMClassifier\n",
    "from xgboost import XGBClassifier\n",
    "\n",
    "clf1 = KNeighborsClassifier(leaf_size=49, n_neighbors=25, p=1)\n",
    "clf2 = DecisionTreeClassifier(max_depth=6, min_samples_split=2, min_samples_leaf=13,class_weight={0:0.0053, 1: 0.9947})\n",
    "clf3 = GaussianNB()\n",
    "clf4 = LogisticRegression(max_iter=1000)\n",
    "clf5 = LGBMClassifier(lambda_l1 = 2.86e-05,lambda_l2 = 0.754, num_leaves=72, feature_selection = 0.842, bagging_fraction = 0.714, bagging_freq = 2)\n",
    "clf6 = XGBClassifier( gamma = 0.953, min_child_weight =5, max_depth = 7, eta = 0.2, grow_policy = 'depthwise',n_estimators = 842)\n",
    "eclf1 = VotingClassifier(estimators=[\n",
    "        ('knn', clf1), ('dt', clf2), ('gnb', clf3), ('lr', clf4), ('xgb', clf6)], voting='hard')\n",
    "eclf1 = eclf1.fit(x_train, y_train)\n"
   ]
  },
  {
   "cell_type": "markdown",
   "metadata": {},
   "source": [
    "Validation Performance"
   ]
  },
  {
   "cell_type": "code",
   "execution_count": 13,
   "metadata": {},
   "outputs": [
    {
     "name": "stdout",
     "output_type": "stream",
     "text": [
      "              precision    recall  f1-score   support\n",
      "\n",
      "           0     0.9790    0.7452    0.8463      2131\n",
      "           1     0.1555    0.7463    0.2574       134\n",
      "\n",
      "    accuracy                         0.7453      2265\n",
      "   macro avg     0.5673    0.7457    0.5518      2265\n",
      "weighted avg     0.9303    0.7453    0.8114      2265\n",
      "\n"
     ]
    },
    {
     "data": {
      "text/plain": [
       "0.4240882103477524"
      ]
     },
     "execution_count": 13,
     "metadata": {},
     "output_type": "execute_result"
    }
   ],
   "source": [
    "y_pred = eclf1.predict(x_valid)\n",
    "print(metrics.classification_report(y_valid, y_pred, digits = 4))\n",
    "metrics.fbeta_score(y_valid,y_pred,beta = 2)"
   ]
  },
  {
   "cell_type": "markdown",
   "metadata": {},
   "source": [
    "Test Performance"
   ]
  },
  {
   "cell_type": "code",
   "execution_count": 16,
   "metadata": {},
   "outputs": [
    {
     "name": "stdout",
     "output_type": "stream",
     "text": [
      "              precision    recall  f1-score   support\n",
      "\n",
      "           0     0.9729    0.7743    0.8623      2131\n",
      "           1     0.1547    0.6567    0.2504       134\n",
      "\n",
      "    accuracy                         0.7673      2265\n",
      "   macro avg     0.5638    0.7155    0.5563      2265\n",
      "weighted avg     0.9245    0.7673    0.8261      2265\n",
      "\n"
     ]
    },
    {
     "data": {
      "text/plain": [
       "0.39819004524886875"
      ]
     },
     "execution_count": 16,
     "metadata": {},
     "output_type": "execute_result"
    }
   ],
   "source": [
    "y_pred = eclf1.predict(x_test)\n",
    "print(metrics.classification_report(y_test, y_pred, digits = 4))\n",
    "metrics.fbeta_score(y_test,y_pred,beta = 2)"
   ]
  }
 ],
 "metadata": {
  "kernelspec": {
   "display_name": "Python 3.8.13 ('NEW')",
   "language": "python",
   "name": "python3"
  },
  "language_info": {
   "codemirror_mode": {
    "name": "ipython",
    "version": 3
   },
   "file_extension": ".py",
   "mimetype": "text/x-python",
   "name": "python",
   "nbconvert_exporter": "python",
   "pygments_lexer": "ipython3",
   "version": "3.8.13"
  },
  "orig_nbformat": 4,
  "vscode": {
   "interpreter": {
    "hash": "25b5c59147e89bbecdd0cf43bb0f208f4f5e498b6b2f207243061f50280f197a"
   }
  }
 },
 "nbformat": 4,
 "nbformat_minor": 2
}
